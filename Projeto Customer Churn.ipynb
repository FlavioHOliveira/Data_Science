{
 "cells": [
  {
   "cell_type": "markdown",
   "metadata": {},
   "source": [
    "# Prevendo o customer churn em operações de telecom"
   ]
  },
  {
   "cell_type": "code",
   "execution_count": null,
   "metadata": {},
   "outputs": [],
   "source": [
    "from IPython.display import Image\n",
    "Image(\"Churn.png\")"
   ]
  },
  {
   "cell_type": "markdown",
   "metadata": {},
   "source": [
    "A empresa de Telecom precisa de um modelo que preveja se um cliente pode ou não cancelar o seu plano e qual a probabilidade de isso ocorrer, caso ele opte no término do relacionamento comercial."
   ]
  },
  {
   "cell_type": "markdown",
   "metadata": {},
   "source": [
    "A variável \"churn\" será a preditiva, **o valor 0 se o cliente continuará com o serviço, e 1 para o término do mesmo.**"
   ]
  },
  {
   "cell_type": "code",
   "execution_count": 28,
   "metadata": {},
   "outputs": [],
   "source": [
    "# Importando os pacotes.\n",
    "import pandas as pd\n",
    "import matplotlib.pylab as plt\n",
    "import seaborn as sns\n",
    "import numpy as np\n",
    "from sklearn.model_selection import train_test_split\n",
    "from sklearn.linear_model import LogisticRegression\n",
    "from sklearn.preprocessing import StandardScaler\n",
    "from imblearn.under_sampling import RandomUnderSampler\n",
    "from sklearn.metrics import confusion_matrix\n",
    "from sklearn.metrics import accuracy_score\n",
    "%matplotlib inline\n",
    "from plotnine import *"
   ]
  },
  {
   "cell_type": "code",
   "execution_count": 2,
   "metadata": {},
   "outputs": [],
   "source": [
    "# Carregando os dados.\n",
    "df_train = pd.read_csv(\"Telecom_treino.csv\")\n",
    "df_test = pd.read_csv(\"Telecom_teste.csv\")"
   ]
  },
  {
   "cell_type": "markdown",
   "metadata": {},
   "source": [
    "### Análise Exploratória"
   ]
  },
  {
   "cell_type": "code",
   "execution_count": 3,
   "metadata": {},
   "outputs": [
    {
     "data": {
      "text/html": [
       "<div>\n",
       "<style scoped>\n",
       "    .dataframe tbody tr th:only-of-type {\n",
       "        vertical-align: middle;\n",
       "    }\n",
       "\n",
       "    .dataframe tbody tr th {\n",
       "        vertical-align: top;\n",
       "    }\n",
       "\n",
       "    .dataframe thead th {\n",
       "        text-align: right;\n",
       "    }\n",
       "</style>\n",
       "<table border=\"1\" class=\"dataframe\">\n",
       "  <thead>\n",
       "    <tr style=\"text-align: right;\">\n",
       "      <th></th>\n",
       "      <th>Unnamed: 0</th>\n",
       "      <th>state</th>\n",
       "      <th>account_length</th>\n",
       "      <th>area_code</th>\n",
       "      <th>international_plan</th>\n",
       "      <th>voice_mail_plan</th>\n",
       "      <th>number_vmail_messages</th>\n",
       "      <th>total_day_minutes</th>\n",
       "      <th>total_day_calls</th>\n",
       "      <th>total_day_charge</th>\n",
       "      <th>...</th>\n",
       "      <th>total_eve_calls</th>\n",
       "      <th>total_eve_charge</th>\n",
       "      <th>total_night_minutes</th>\n",
       "      <th>total_night_calls</th>\n",
       "      <th>total_night_charge</th>\n",
       "      <th>total_intl_minutes</th>\n",
       "      <th>total_intl_calls</th>\n",
       "      <th>total_intl_charge</th>\n",
       "      <th>number_customer_service_calls</th>\n",
       "      <th>churn</th>\n",
       "    </tr>\n",
       "  </thead>\n",
       "  <tbody>\n",
       "    <tr>\n",
       "      <th>0</th>\n",
       "      <td>1</td>\n",
       "      <td>KS</td>\n",
       "      <td>128</td>\n",
       "      <td>area_code_415</td>\n",
       "      <td>no</td>\n",
       "      <td>yes</td>\n",
       "      <td>25</td>\n",
       "      <td>265.1</td>\n",
       "      <td>110</td>\n",
       "      <td>45.07</td>\n",
       "      <td>...</td>\n",
       "      <td>99</td>\n",
       "      <td>16.78</td>\n",
       "      <td>244.7</td>\n",
       "      <td>91</td>\n",
       "      <td>11.01</td>\n",
       "      <td>10.0</td>\n",
       "      <td>3</td>\n",
       "      <td>2.70</td>\n",
       "      <td>1</td>\n",
       "      <td>no</td>\n",
       "    </tr>\n",
       "    <tr>\n",
       "      <th>1</th>\n",
       "      <td>2</td>\n",
       "      <td>OH</td>\n",
       "      <td>107</td>\n",
       "      <td>area_code_415</td>\n",
       "      <td>no</td>\n",
       "      <td>yes</td>\n",
       "      <td>26</td>\n",
       "      <td>161.6</td>\n",
       "      <td>123</td>\n",
       "      <td>27.47</td>\n",
       "      <td>...</td>\n",
       "      <td>103</td>\n",
       "      <td>16.62</td>\n",
       "      <td>254.4</td>\n",
       "      <td>103</td>\n",
       "      <td>11.45</td>\n",
       "      <td>13.7</td>\n",
       "      <td>3</td>\n",
       "      <td>3.70</td>\n",
       "      <td>1</td>\n",
       "      <td>no</td>\n",
       "    </tr>\n",
       "    <tr>\n",
       "      <th>2</th>\n",
       "      <td>3</td>\n",
       "      <td>NJ</td>\n",
       "      <td>137</td>\n",
       "      <td>area_code_415</td>\n",
       "      <td>no</td>\n",
       "      <td>no</td>\n",
       "      <td>0</td>\n",
       "      <td>243.4</td>\n",
       "      <td>114</td>\n",
       "      <td>41.38</td>\n",
       "      <td>...</td>\n",
       "      <td>110</td>\n",
       "      <td>10.30</td>\n",
       "      <td>162.6</td>\n",
       "      <td>104</td>\n",
       "      <td>7.32</td>\n",
       "      <td>12.2</td>\n",
       "      <td>5</td>\n",
       "      <td>3.29</td>\n",
       "      <td>0</td>\n",
       "      <td>no</td>\n",
       "    </tr>\n",
       "    <tr>\n",
       "      <th>3</th>\n",
       "      <td>4</td>\n",
       "      <td>OH</td>\n",
       "      <td>84</td>\n",
       "      <td>area_code_408</td>\n",
       "      <td>yes</td>\n",
       "      <td>no</td>\n",
       "      <td>0</td>\n",
       "      <td>299.4</td>\n",
       "      <td>71</td>\n",
       "      <td>50.90</td>\n",
       "      <td>...</td>\n",
       "      <td>88</td>\n",
       "      <td>5.26</td>\n",
       "      <td>196.9</td>\n",
       "      <td>89</td>\n",
       "      <td>8.86</td>\n",
       "      <td>6.6</td>\n",
       "      <td>7</td>\n",
       "      <td>1.78</td>\n",
       "      <td>2</td>\n",
       "      <td>no</td>\n",
       "    </tr>\n",
       "    <tr>\n",
       "      <th>4</th>\n",
       "      <td>5</td>\n",
       "      <td>OK</td>\n",
       "      <td>75</td>\n",
       "      <td>area_code_415</td>\n",
       "      <td>yes</td>\n",
       "      <td>no</td>\n",
       "      <td>0</td>\n",
       "      <td>166.7</td>\n",
       "      <td>113</td>\n",
       "      <td>28.34</td>\n",
       "      <td>...</td>\n",
       "      <td>122</td>\n",
       "      <td>12.61</td>\n",
       "      <td>186.9</td>\n",
       "      <td>121</td>\n",
       "      <td>8.41</td>\n",
       "      <td>10.1</td>\n",
       "      <td>3</td>\n",
       "      <td>2.73</td>\n",
       "      <td>3</td>\n",
       "      <td>no</td>\n",
       "    </tr>\n",
       "  </tbody>\n",
       "</table>\n",
       "<p>5 rows × 21 columns</p>\n",
       "</div>"
      ],
      "text/plain": [
       "   Unnamed: 0 state  account_length      area_code international_plan  \\\n",
       "0           1    KS             128  area_code_415                 no   \n",
       "1           2    OH             107  area_code_415                 no   \n",
       "2           3    NJ             137  area_code_415                 no   \n",
       "3           4    OH              84  area_code_408                yes   \n",
       "4           5    OK              75  area_code_415                yes   \n",
       "\n",
       "  voice_mail_plan  number_vmail_messages  total_day_minutes  total_day_calls  \\\n",
       "0             yes                     25              265.1              110   \n",
       "1             yes                     26              161.6              123   \n",
       "2              no                      0              243.4              114   \n",
       "3              no                      0              299.4               71   \n",
       "4              no                      0              166.7              113   \n",
       "\n",
       "   total_day_charge  ...  total_eve_calls  total_eve_charge  \\\n",
       "0             45.07  ...               99             16.78   \n",
       "1             27.47  ...              103             16.62   \n",
       "2             41.38  ...              110             10.30   \n",
       "3             50.90  ...               88              5.26   \n",
       "4             28.34  ...              122             12.61   \n",
       "\n",
       "   total_night_minutes  total_night_calls  total_night_charge  \\\n",
       "0                244.7                 91               11.01   \n",
       "1                254.4                103               11.45   \n",
       "2                162.6                104                7.32   \n",
       "3                196.9                 89                8.86   \n",
       "4                186.9                121                8.41   \n",
       "\n",
       "   total_intl_minutes  total_intl_calls  total_intl_charge  \\\n",
       "0                10.0                 3               2.70   \n",
       "1                13.7                 3               3.70   \n",
       "2                12.2                 5               3.29   \n",
       "3                 6.6                 7               1.78   \n",
       "4                10.1                 3               2.73   \n",
       "\n",
       "   number_customer_service_calls  churn  \n",
       "0                              1     no  \n",
       "1                              1     no  \n",
       "2                              0     no  \n",
       "3                              2     no  \n",
       "4                              3     no  \n",
       "\n",
       "[5 rows x 21 columns]"
      ]
     },
     "execution_count": 3,
     "metadata": {},
     "output_type": "execute_result"
    }
   ],
   "source": [
    "# Visualizando as primeiras linhas.\n",
    "df_train.head()"
   ]
  },
  {
   "cell_type": "code",
   "execution_count": 4,
   "metadata": {},
   "outputs": [
    {
     "data": {
      "text/plain": [
       "Unnamed: 0                         int64\n",
       "state                             object\n",
       "account_length                     int64\n",
       "area_code                         object\n",
       "international_plan                object\n",
       "voice_mail_plan                   object\n",
       "number_vmail_messages              int64\n",
       "total_day_minutes                float64\n",
       "total_day_calls                    int64\n",
       "total_day_charge                 float64\n",
       "total_eve_minutes                float64\n",
       "total_eve_calls                    int64\n",
       "total_eve_charge                 float64\n",
       "total_night_minutes              float64\n",
       "total_night_calls                  int64\n",
       "total_night_charge               float64\n",
       "total_intl_minutes               float64\n",
       "total_intl_calls                   int64\n",
       "total_intl_charge                float64\n",
       "number_customer_service_calls      int64\n",
       "churn                             object\n",
       "dtype: object"
      ]
     },
     "execution_count": 4,
     "metadata": {},
     "output_type": "execute_result"
    }
   ],
   "source": [
    "#Visualizando os tipos de dados no dataset.\n",
    "df_train.dtypes"
   ]
  },
  {
   "cell_type": "code",
   "execution_count": 5,
   "metadata": {},
   "outputs": [
    {
     "data": {
      "image/png": "[encoded data removed]",
      "text/plain": [
       "<Figure size 432x288 with 1 Axes>"
      ]
     },
     "metadata": {
      "needs_background": "light"
     },
     "output_type": "display_data"
    }
   ],
   "source": [
    "# Distribuição da variável TARGET.\n",
    "df_train.groupby(by = df_train[\"churn\"]).size().plot.bar()\n",
    "plt.title(\"Distribuição da rotatividade\")\n",
    "plt.rc(\"grid\", linestyle = \"-\", color = \"black\")\n",
    "plt.xlabel(\"Churn\")\n",
    "plt.ylabel(\"Contagem\")\n",
    "plt.grid()\n",
    "plt.show()"
   ]
  },
  {
   "cell_type": "markdown",
   "metadata": {},
   "source": [
    "É muito claro o desequilibrio nos dados, será necessário um balanceamento para que em seguida o dataset sejá apresentado ao modelo."
   ]
  },
  {
   "cell_type": "markdown",
   "metadata": {},
   "source": [
    "### Visualizando os Outliers"
   ]
  },
  {
   "cell_type": "code",
   "execution_count": 41,
   "metadata": {},
   "outputs": [
    {
     "data": {
      "image/png": "[encoded data removed]",
      "text/plain": [
       "<Figure size 720x1800 with 14 Axes>"
      ]
     },
     "metadata": {
      "needs_background": "light"
     },
     "output_type": "display_data"
    }
   ],
   "source": [
    "fig, axs = plt.subplots(nrows = 7, ncols = 2, figsize = (10, 25))\n",
    "\n",
    "axs[0, 0].boxplot(df_train[\"number_vmail_messages\"])\n",
    "axs[0, 0].set_title(\"number_vmail_messages\")\n",
    "\n",
    "axs[0, 1].boxplot(df_train[\"total_day_minutes\"])\n",
    "axs[0, 1].set_title(\"total_day_minutes\")\n",
    "\n",
    "axs[1, 0].boxplot(df_train[\"total_day_calls\"])\n",
    "axs[1, 0].set_title(\"total_day_calls\")\n",
    "\n",
    "axs[1, 1].boxplot(df_train[\"total_day_charge\"])\n",
    "axs[1, 1].set_title(\"total_day_charges\")\n",
    "\n",
    "axs[2, 0].boxplot(df_train[\"total_eve_minutes\"])\n",
    "axs[2, 0].set_title(\"total_eve_minutes\")\n",
    "\n",
    "axs[2, 1].boxplot(df_train[\"total_eve_calls\"])\n",
    "axs[2, 1].set_title(\"total_eve_calls\")\n",
    "\n",
    "axs[3, 0].boxplot(df_train[\"total_eve_charge\"])\n",
    "axs[3, 0].set_title(\"total_eve_charge\")\n",
    "\n",
    "axs[3, 1].boxplot(df_train[\"total_night_minutes\"])\n",
    "axs[3, 1].set_title(\"total_night_minutes\")\n",
    "\n",
    "axs[4, 0].boxplot(df_train[\"total_night_calls\"])\n",
    "axs[4, 0].set_title(\"total_night_calls\")\n",
    "\n",
    "axs[4, 1].boxplot(df_train[\"total_night_charge\"])\n",
    "axs[4, 1].set_title(\"total_night_charge\")\n",
    "\n",
    "axs[5, 0].boxplot(df_train[\"total_intl_minutes\"])\n",
    "axs[5, 0].set_title(\"total_intl_minutes\")\n",
    "\n",
    "axs[5, 1].boxplot(df_train[\"total_intl_calls\"])\n",
    "axs[5, 1].set_title(\"total_intl_calls\")\n",
    "\n",
    "axs[6, 0].boxplot(df_train[\"total_intl_charge\"])\n",
    "axs[6, 0].set_title(\"total_intl_charge\")\n",
    "\n",
    "axs[6, 1].boxplot(df_train[\"number_customer_service_calls\"])\n",
    "axs[6, 1].set_title(\"number_customer_service_calls\")\n",
    "\n",
    "plt.show()"
   ]
  },
  {
   "cell_type": "markdown",
   "metadata": {},
   "source": [
    "Os outliers serão ignorados no primeiro momento, ao final será feito um tratamento e comparado com os dados originais."
   ]
  },
  {
   "cell_type": "code",
   "execution_count": 48,
   "metadata": {},
   "outputs": [],
   "source": [
    "# Selecionando as colunas com outliers.\n",
    "total_intl_charge = df_train.iloc[:,18]"
   ]
  },
  {
   "cell_type": "code",
   "execution_count": 51,
   "metadata": {},
   "outputs": [],
   "source": [
    "# Armazenando a média e o desvio padrão dos dados.\n",
    "mean = np.mean(total_intl_charge, axis=0)\n",
    "sd = np.std(total_intl_charge, axis=0)"
   ]
  },
  {
   "cell_type": "code",
   "execution_count": 59,
   "metadata": {},
   "outputs": [
    {
     "data": {
      "text/plain": [
       "2.764581458145804"
      ]
     },
     "execution_count": 59,
     "metadata": {},
     "output_type": "execute_result"
    }
   ],
   "source": [
    "mean"
   ]
  },
  {
   "cell_type": "code",
   "execution_count": 60,
   "metadata": {},
   "outputs": [
    {
     "data": {
      "text/plain": [
       "0.7536595269805152"
      ]
     },
     "execution_count": 60,
     "metadata": {},
     "output_type": "execute_result"
    }
   ],
   "source": [
    "sd"
   ]
  },
  {
   "cell_type": "code",
   "execution_count": 57,
   "metadata": {},
   "outputs": [
    {
     "name": "stdout",
     "output_type": "stream",
     "text": [
      "0.95\n",
      "1.19\n",
      "0.0\n",
      "1.19\n",
      "0.73\n",
      "1.22\n",
      "0.0\n",
      "1.0\n",
      "0.54\n",
      "0.0\n",
      "0.95\n",
      "0.97\n",
      "0.0\n",
      "1.24\n",
      "1.11\n",
      "0.97\n",
      "0.0\n",
      "0.35\n",
      "1.08\n",
      "0.0\n",
      "1.19\n",
      "1.13\n",
      "1.05\n",
      "1.03\n",
      "0.0\n",
      "0.0\n",
      "0.59\n",
      "1.08\n",
      "1.19\n",
      "1.11\n",
      "1.11\n",
      "1.13\n",
      "1.22\n",
      "0.0\n",
      "1.24\n",
      "1.13\n",
      "1.13\n",
      "1.22\n",
      "0.0\n",
      "1.22\n",
      "1.03\n",
      "0.95\n",
      "1.0\n",
      "1.19\n",
      "0.54\n",
      "1.22\n",
      "1.13\n",
      "1.16\n",
      "1.03\n",
      "0.78\n",
      "0.84\n",
      "0.89\n",
      "0.7\n",
      "0.0\n",
      "1.24\n",
      "0.92\n",
      "0.0\n",
      "1.0\n",
      "1.16\n",
      "1.13\n",
      "0.0\n",
      "0.3\n",
      "0.89\n",
      "1.16\n",
      "0.0\n",
      "0.95\n",
      "1.22\n",
      "1.24\n",
      "1.03\n",
      "1.03\n",
      "0.0\n",
      "1.16\n",
      "0.0\n",
      "0.57\n",
      "1.11\n",
      "0.78\n",
      "0.57\n",
      "1.0\n",
      "0.65\n",
      "1.13\n",
      "0.68\n",
      "1.05\n",
      "0.0\n",
      "0.0\n"
     ]
    }
   ],
   "source": [
    "for x in total_intl_charge:\n",
    "    if (x < mean -2 * sd):\n",
    "        print(x)"
   ]
  },
  {
   "cell_type": "code",
   "execution_count": 58,
   "metadata": {},
   "outputs": [
    {
     "name": "stdout",
     "output_type": "stream",
     "text": [
      "5.4\n",
      "4.37\n",
      "4.75\n",
      "5.1\n",
      "4.86\n",
      "4.32\n",
      "4.32\n",
      "4.64\n",
      "4.73\n",
      "4.73\n",
      "4.91\n",
      "4.46\n",
      "4.4\n",
      "4.43\n",
      "4.51\n",
      "4.29\n",
      "4.35\n",
      "4.56\n",
      "4.59\n",
      "4.46\n",
      "4.35\n",
      "4.62\n",
      "4.56\n",
      "4.46\n",
      "4.86\n",
      "4.83\n",
      "4.35\n",
      "4.56\n",
      "4.4\n",
      "4.43\n",
      "4.67\n",
      "4.46\n",
      "4.67\n",
      "4.97\n",
      "4.37\n",
      "4.43\n",
      "4.81\n",
      "4.43\n",
      "4.35\n",
      "4.43\n",
      "4.75\n",
      "4.67\n",
      "4.59\n",
      "4.91\n",
      "4.43\n",
      "4.86\n",
      "4.56\n",
      "4.29\n",
      "4.35\n",
      "4.32\n",
      "4.35\n",
      "4.59\n",
      "4.56\n",
      "4.37\n",
      "4.94\n",
      "4.48\n",
      "4.48\n",
      "4.29\n",
      "4.51\n",
      "4.37\n",
      "4.73\n",
      "4.51\n",
      "4.59\n",
      "4.81\n",
      "4.29\n"
     ]
    }
   ],
   "source": [
    "for x in total_intl_charge:\n",
    "    if (x > mean +2 * sd):\n",
    "        print(x)"
   ]
  },
  {
   "cell_type": "code",
   "execution_count": null,
   "metadata": {},
   "outputs": [],
   "source": []
  },
  {
   "cell_type": "code",
   "execution_count": null,
   "metadata": {},
   "outputs": [],
   "source": []
  },
  {
   "cell_type": "code",
   "execution_count": null,
   "metadata": {},
   "outputs": [],
   "source": []
  },
  {
   "cell_type": "code",
   "execution_count": null,
   "metadata": {},
   "outputs": [],
   "source": []
  },
  {
   "cell_type": "code",
   "execution_count": null,
   "metadata": {},
   "outputs": [],
   "source": []
  },
  {
   "cell_type": "code",
   "execution_count": null,
   "metadata": {},
   "outputs": [],
   "source": []
  },
  {
   "cell_type": "code",
   "execution_count": null,
   "metadata": {},
   "outputs": [],
   "source": []
  },
  {
   "cell_type": "code",
   "execution_count": null,
   "metadata": {},
   "outputs": [],
   "source": []
  },
  {
   "cell_type": "code",
   "execution_count": null,
   "metadata": {},
   "outputs": [],
   "source": []
  },
  {
   "cell_type": "code",
   "execution_count": null,
   "metadata": {},
   "outputs": [],
   "source": []
  },
  {
   "cell_type": "code",
   "execution_count": null,
   "metadata": {},
   "outputs": [],
   "source": [
    "# Valores missing nos dados de treino.\n",
    "df_train.isnull().sum()"
   ]
  },
  {
   "cell_type": "markdown",
   "metadata": {},
   "source": [
    "#### Média de chamadas de Atendimento ao cliente por dia"
   ]
  },
  {
   "cell_type": "code",
   "execution_count": null,
   "metadata": {},
   "outputs": [],
   "source": [
    "df_train.groupby(\"total_day_calls\")[\"number_customer_service_calls\"].mean().plot()\n",
    "plt.title(\"Média de chamadas de atendimento ao cliente por dia\")\n",
    "plt.rc(\"grid\", linestyle = \"-\", color = \"black\")\n",
    "plt.grid()\n",
    "plt.show()"
   ]
  },
  {
   "cell_type": "markdown",
   "metadata": {},
   "source": [
    "#### Média de ligações internacionais por dia"
   ]
  },
  {
   "cell_type": "code",
   "execution_count": null,
   "metadata": {},
   "outputs": [],
   "source": [
    "df_train.groupby(by = \"total_day_calls\")[\"total_intl_calls\"].mean().plot()\n",
    "plt.title(\"Média de ligações internacionais por dia\")\n",
    "plt.rc(\"grid\", linestyle = \"-\", color = \"black\")\n",
    "plt.grid()\n",
    "plt.show()\n"
   ]
  },
  {
   "cell_type": "markdown",
   "metadata": {},
   "source": [
    "#### Média de minutos durante as ligações por período"
   ]
  },
  {
   "cell_type": "code",
   "execution_count": null,
   "metadata": {},
   "outputs": [],
   "source": [
    "fig, axs = plt.subplots(nrows = 2, ncols = 2, figsize = (10, 15))\n",
    "\n",
    "axs[0, 0].hist(df_train[\"total_day_calls\"], color = \"cyan\", ec = \"k\")\n",
    "axs[0, 0].set_title(\"Ligações no período diurno\")\n",
    "\n",
    "\n",
    "axs[0, 1].hist(df_train[\"total_day_minutes\"], color = \"cyan\", ec = \"k\")\n",
    "axs[0, 1].set_title(\"Distribuição em minutos\")\n",
    "\n",
    "\n",
    "axs[1, 0].hist(df_train[\"total_night_calls\"], color = \"black\", ec = \"w\")\n",
    "axs[1, 0].set_title(\"Ligações no período noturno\")\n",
    "\n",
    "axs[1, 1].hist(df_train[\"total_night_minutes\"], color = \"black\", ec = \"w\")\n",
    "axs[1, 1].set_title(\"Distribuição em minutos\")\n",
    "\n",
    "plt.show()"
   ]
  },
  {
   "cell_type": "markdown",
   "metadata": {},
   "source": [
    "Nota-se que a quantidade de ligações e o tempo de duração, se encontram bem próximos."
   ]
  },
  {
   "cell_type": "markdown",
   "metadata": {},
   "source": [
    "#### Custo médio diário por período em relação ao tempo de conta"
   ]
  },
  {
   "cell_type": "code",
   "execution_count": null,
   "metadata": {},
   "outputs": [],
   "source": [
    "df_train.groupby(\"account_length\")[\"total_day_charge\", \"total_night_charge\"].mean().plot()\n",
    "plt.show()"
   ]
  },
  {
   "cell_type": "markdown",
   "metadata": {},
   "source": [
    "Como mostra no gráfico acima, o consumo é consideravelmente maior durante o dia."
   ]
  },
  {
   "cell_type": "code",
   "execution_count": null,
   "metadata": {},
   "outputs": [],
   "source": [
    "# Correlação entre as varíaveis.\n",
    "plt.subplots(figsize = (15,15))\n",
    "sns.heatmap(df_train.corr(), annot = True, vmin = -1, vmax = 1, center = 0, cmap = \"coolwarm\", linewidths = 3, linecolor= \"black\")\n",
    "plt.show()"
   ]
  },
  {
   "cell_type": "markdown",
   "metadata": {},
   "source": [
    "### Transformações de Varíaveis (Dados de treino)"
   ]
  },
  {
   "cell_type": "code",
   "execution_count": null,
   "metadata": {},
   "outputs": [],
   "source": [
    "# Convertendo as caractéres \"no\" para 0, e \"yes\" para 1.\n",
    "df_train[\"international_plan\"] = df_train[\"international_plan\"].replace({\"no\": 0, \"yes\": 1})\n",
    "df_train[\"voice_mail_plan\"] = df_train[\"voice_mail_plan\"].replace({\"no\": 0, \"yes\": 1})\n",
    "df_train[\"churn\"] = df_train[\"churn\"].replace({\"no\": 0, \"yes\": 1})"
   ]
  },
  {
   "cell_type": "code",
   "execution_count": null,
   "metadata": {},
   "outputs": [],
   "source": [
    "# Convertendo a varíavel target para o tipo categórico.\n",
    "df_train[\"churn\"] = df_train[\"churn\"].astype(\"category\")"
   ]
  },
  {
   "cell_type": "code",
   "execution_count": null,
   "metadata": {},
   "outputs": [],
   "source": [
    "# Removendo algumas variáveis.\n",
    "df_train.drop(columns = [\"state\"], inplace = True)\n",
    "df_train.drop(columns = [\"area_code\"], inplace = True)\n",
    "df_train.drop(columns= [\"Unnamed: 0\"], inplace = True)"
   ]
  },
  {
   "cell_type": "markdown",
   "metadata": {},
   "source": [
    "### Transformações de Varíaveis (Dados de teste)"
   ]
  },
  {
   "cell_type": "code",
   "execution_count": null,
   "metadata": {},
   "outputs": [],
   "source": [
    "# Convertendo as caractéres \"no\" para 0, e \"yes\" para 1.\n",
    "df_test[\"international_plan\"] = df_test[\"international_plan\"].replace({\"no\": 0, \"yes\": 1})\n",
    "df_test[\"voice_mail_plan\"] = df_test[\"voice_mail_plan\"].replace({\"no\": 0, \"yes\": 1})\n",
    "df_test[\"churn\"] = df_test[\"churn\"].replace({\"no\": 0, \"yes\": 1})"
   ]
  },
  {
   "cell_type": "code",
   "execution_count": null,
   "metadata": {},
   "outputs": [],
   "source": [
    "# Convertendo a varíavel target o tipo categórico.\n",
    "df_test[\"churn\"] = df_test[\"churn\"].astype(\"category\")"
   ]
  },
  {
   "cell_type": "code",
   "execution_count": null,
   "metadata": {},
   "outputs": [],
   "source": [
    "# Removendo algumas variáveis\n",
    "df_test.drop(columns = [\"state\"], inplace = True)\n",
    "df_test.drop(columns = [\"area_code\"], inplace = True)\n",
    "df_test.drop(columns= [\"Unnamed: 0\"], inplace = True)"
   ]
  },
  {
   "cell_type": "code",
   "execution_count": null,
   "metadata": {},
   "outputs": [],
   "source": [
    "# Observando os tipos de dados de teste.\n",
    "df_test.dtypes"
   ]
  },
  {
   "cell_type": "markdown",
   "metadata": {},
   "source": [
    "### Balanceando a  variável target"
   ]
  },
  {
   "cell_type": "code",
   "execution_count": null,
   "metadata": {},
   "outputs": [],
   "source": [
    "# Separando os dados\n",
    "X = df_train.copy()\n",
    "Y = X[\"churn\"]"
   ]
  },
  {
   "cell_type": "code",
   "execution_count": null,
   "metadata": {},
   "outputs": [],
   "source": [
    "# Criando a função.\n",
    "rus = RandomUnderSampler(random_state = 0)"
   ]
  },
  {
   "cell_type": "code",
   "execution_count": null,
   "metadata": {},
   "outputs": [],
   "source": [
    "# Aplicando o balanceamento.\n",
    "X_resampled, y_resampled = rus.fit_resample(X, Y)"
   ]
  },
  {
   "cell_type": "code",
   "execution_count": null,
   "metadata": {},
   "outputs": [],
   "source": [
    "# Distribuição da variável TARGET após o balanceamento.\n",
    "X_resampled.groupby(by = X_resampled[\"churn\"]).size().plot.bar()\n",
    "plt.title(\"Distriuição da rotatividade\")\n",
    "plt.rc(\"grid\", linestyle = \"-\", color = \"black\")\n",
    "plt.xlabel(\"Churn\")\n",
    "plt.ylabel(\"Contagem\")\n",
    "plt.grid()\n",
    "plt.show()"
   ]
  },
  {
   "cell_type": "markdown",
   "metadata": {},
   "source": [
    "Dados normalizados, agora sim podemos seguir para o modelo."
   ]
  },
  {
   "cell_type": "markdown",
   "metadata": {},
   "source": [
    "### Padronização dos dados de treino"
   ]
  },
  {
   "cell_type": "code",
   "execution_count": null,
   "metadata": {},
   "outputs": [],
   "source": [
    "# Separando os dados.\n",
    "X = X_resampled\n",
    "Y = y_resampled"
   ]
  },
  {
   "cell_type": "code",
   "execution_count": null,
   "metadata": {},
   "outputs": [],
   "source": [
    "# Verificando valores missing.\n",
    "X.isnull().sum()\n"
   ]
  },
  {
   "cell_type": "code",
   "execution_count": null,
   "metadata": {},
   "outputs": [],
   "source": [
    "# Removendo a variável target.\n",
    "X.drop(columns = [\"churn\"], inplace = True)"
   ]
  },
  {
   "cell_type": "code",
   "execution_count": null,
   "metadata": {},
   "outputs": [],
   "source": [
    "# Aplicando a padronização.\n",
    "scaler = StandardScaler().fit(X)\n",
    "dfPad = scaler.transform(X)"
   ]
  },
  {
   "cell_type": "code",
   "execution_count": null,
   "metadata": {},
   "outputs": [],
   "source": [
    "# Visualizando os dados.\n",
    "print(\"Dados originais: \\n\\n\", df_train.values[0:3,:])\n",
    "print(\"\\n\\nDados padronizados: \\n\\n\", dfPad[0:3,:])"
   ]
  },
  {
   "cell_type": "markdown",
   "metadata": {},
   "source": [
    "### Padronização dos dados de teste"
   ]
  },
  {
   "cell_type": "code",
   "execution_count": null,
   "metadata": {},
   "outputs": [],
   "source": [
    "# Separando os dados.\n",
    "x = df_test\n",
    "y = df_test[\"churn\"]"
   ]
  },
  {
   "cell_type": "code",
   "execution_count": null,
   "metadata": {},
   "outputs": [],
   "source": [
    "# Verificando valores missing.\n",
    "x.isnull().sum()"
   ]
  },
  {
   "cell_type": "code",
   "execution_count": null,
   "metadata": {},
   "outputs": [],
   "source": [
    "# Removendo a variável target.\n",
    "x.drop(columns = [\"churn\"], inplace = True)"
   ]
  },
  {
   "cell_type": "code",
   "execution_count": null,
   "metadata": {},
   "outputs": [],
   "source": [
    "# Aplicando a padronização.\n",
    "scaler = StandardScaler().fit(x)\n",
    "dfPadTest = scaler.transform(x)"
   ]
  },
  {
   "cell_type": "code",
   "execution_count": null,
   "metadata": {},
   "outputs": [],
   "source": [
    "# Visualizando os dados.\n",
    "print(\"\\nDados originais: \\n\\n\", x.values[0:3,:])\n",
    "print(\"\\nDados padronizados: \\n\\n\", dfPadTest[0:3,:])"
   ]
  },
  {
   "cell_type": "markdown",
   "metadata": {},
   "source": [
    "## Modelo 1 (Logistic Regression)"
   ]
  },
  {
   "cell_type": "code",
   "execution_count": null,
   "metadata": {},
   "outputs": [],
   "source": [
    "# Divindo os dados em treino e teste.\n",
    "teste_size = 0.30"
   ]
  },
  {
   "cell_type": "code",
   "execution_count": null,
   "metadata": {},
   "outputs": [],
   "source": [
    "# Criando os conjuntos.\n",
    "X_treino, X_teste, Y_treino, Y_teste = train_test_split(dfPad, Y, test_size = teste_size, random_state = 0)"
   ]
  },
  {
   "cell_type": "code",
   "execution_count": null,
   "metadata": {},
   "outputs": [],
   "source": [
    "# Instânciando e aplicando o modelo.\n",
    "modelo1 = LogisticRegression()\n",
    "modelo1.fit(X_treino, Y_treino)"
   ]
  },
  {
   "cell_type": "code",
   "execution_count": null,
   "metadata": {},
   "outputs": [],
   "source": [
    "# Prevendo e gerando a confusion matrix.\n",
    "y_pred = modelo1.predict(X_teste)\n",
    "matrix = confusion_matrix(Y_teste, y_pred)"
   ]
  },
  {
   "cell_type": "code",
   "execution_count": null,
   "metadata": {},
   "outputs": [],
   "source": [
    "# Vizualizando a matrix.\n",
    "print(matrix)"
   ]
  },
  {
   "cell_type": "code",
   "execution_count": null,
   "metadata": {},
   "outputs": [],
   "source": [
    "# Score do modelo em treino.\n",
    "result = accuracy_score(Y_teste, y_pred)\n",
    "print(\"Acurácia do treino: %.2f%%\" % (result * 100.0))"
   ]
  },
  {
   "cell_type": "markdown",
   "metadata": {},
   "source": [
    "## Modelo 2 (Logistic Regression + KFold + Cross Validation)"
   ]
  },
  {
   "cell_type": "code",
   "execution_count": null,
   "metadata": {},
   "outputs": [],
   "source": [
    "# Importando os pacotes.\n",
    "from sklearn.model_selection import KFold\n",
    "from sklearn.model_selection import cross_val_score"
   ]
  },
  {
   "cell_type": "code",
   "execution_count": null,
   "metadata": {},
   "outputs": [],
   "source": [
    "# Definindo os valores para os folds\n",
    "num_folds = 10"
   ]
  },
  {
   "cell_type": "code",
   "execution_count": null,
   "metadata": {},
   "outputs": [],
   "source": [
    "# Separando os dados em folds\n",
    "kfold = KFold(num_folds, True, random_state = 0)"
   ]
  },
  {
   "cell_type": "code",
   "execution_count": null,
   "metadata": {},
   "outputs": [],
   "source": [
    "# Criando o modelo\n",
    "modelo2 = LogisticRegression()\n",
    "resultado = cross_val_score(modelo2, X_treino, Y_treino, cv = kfold)"
   ]
  },
  {
   "cell_type": "code",
   "execution_count": null,
   "metadata": {},
   "outputs": [],
   "source": [
    "# Prevendo e gerando a confusion matrix.\n",
    "y_pred = modelo2.predict(X_teste)\n",
    "matrix = confusion_matrix(Y_teste, y_pred)"
   ]
  },
  {
   "cell_type": "code",
   "execution_count": null,
   "metadata": {},
   "outputs": [],
   "source": [
    "# Vizualizando a matrix.\n",
    "print(matrix)"
   ]
  },
  {
   "cell_type": "code",
   "execution_count": null,
   "metadata": {},
   "outputs": [],
   "source": [
    "# Usamos a média e o desvio padrão\n",
    "print(\"Acurácia Final: %.2f%%\" % (resultado.mean() * 100.0))"
   ]
  },
  {
   "cell_type": "markdown",
   "metadata": {},
   "source": [
    "## Modelo 3 (Logistic Regression + Classification Report)"
   ]
  },
  {
   "cell_type": "code",
   "execution_count": null,
   "metadata": {},
   "outputs": [],
   "source": [
    "# Importando o pacote.\n",
    "from sklearn.metrics import classification_report"
   ]
  },
  {
   "cell_type": "code",
   "execution_count": null,
   "metadata": {},
   "outputs": [],
   "source": [
    "# Divisão dos dados.\n",
    "size = 0.30"
   ]
  },
  {
   "cell_type": "code",
   "execution_count": null,
   "metadata": {},
   "outputs": [],
   "source": [
    "X_treino, X_teste, Y_treino, Y_teste = train_test_split(dfPad, Y, test_size = size, random_state = 0)"
   ]
  },
  {
   "cell_type": "code",
   "execution_count": null,
   "metadata": {},
   "outputs": [],
   "source": [
    "# Criando o modelo\n",
    "modelo3 = LogisticRegression()\n",
    "modelo3.fit(X_treino, Y_treino)"
   ]
  },
  {
   "cell_type": "code",
   "execution_count": null,
   "metadata": {},
   "outputs": [],
   "source": [
    "# Fazendo as previsões e construindo o relatório\n",
    "previsoes = modelo3.predict(X_teste)\n",
    "report = classification_report(Y_teste, previsoes)"
   ]
  },
  {
   "cell_type": "code",
   "execution_count": null,
   "metadata": {},
   "outputs": [],
   "source": [
    "# Imprimindo o relatório\n",
    "print(report)"
   ]
  },
  {
   "cell_type": "markdown",
   "metadata": {},
   "source": [
    "### Aplicando o modelo nos dados de teste"
   ]
  },
  {
   "cell_type": "code",
   "execution_count": null,
   "metadata": {},
   "outputs": [],
   "source": [
    "# Modelo.\n",
    "modelo1.fit(dfPadTest, y)"
   ]
  },
  {
   "cell_type": "code",
   "execution_count": null,
   "metadata": {},
   "outputs": [],
   "source": [
    "# Score do modelo em teste.\n",
    "result = modelo1.score(dfPadTest, y)\n",
    "print(\"Acurácia do treino: %.2f%%\" % (result * 100.0))"
   ]
  },
  {
   "cell_type": "code",
   "execution_count": null,
   "metadata": {},
   "outputs": [],
   "source": [
    "# Verificando a probabilidade de churn.\n",
    "prob = modelo1.predict_proba(dfPadTest)\n",
    "print('O cliente tem {}% de probabilidade de cancelar o contrato.'\\\n",
    "      .format(round(prob[:,1][0]*100, 2)))"
   ]
  },
  {
   "cell_type": "code",
   "execution_count": null,
   "metadata": {},
   "outputs": [],
   "source": [
    "# Convertendo o resultado para o dataframe.\n",
    "df = pd.DataFrame(prob[:,0].round(2) * 100)"
   ]
  },
  {
   "cell_type": "code",
   "execution_count": null,
   "metadata": {},
   "outputs": [],
   "source": [
    "df.head(10)"
   ]
  },
  {
   "cell_type": "markdown",
   "metadata": {},
   "source": [
    "### Salvando os resultados"
   ]
  },
  {
   "cell_type": "code",
   "execution_count": null,
   "metadata": {},
   "outputs": [],
   "source": [
    "# Salvando os resultados em um CSV.\n",
    "df.to_csv(\"Result_churn.csv\", index = False)"
   ]
  },
  {
   "cell_type": "markdown",
   "metadata": {},
   "source": [
    "# Conclusão "
   ]
  }
 ],
 "metadata": {
  "kernelspec": {
   "display_name": "Python 3",
   "language": "python",
   "name": "python3"
  },
  "language_info": {
   "codemirror_mode": {
    "name": "ipython",
    "version": 3
   },
   "file_extension": ".py",
   "mimetype": "text/x-python",
   "name": "python",
   "nbconvert_exporter": "python",
   "pygments_lexer": "ipython3",
   "version": "3.7.4"
  }
 },
 "nbformat": 4,
 "nbformat_minor": 2
}
